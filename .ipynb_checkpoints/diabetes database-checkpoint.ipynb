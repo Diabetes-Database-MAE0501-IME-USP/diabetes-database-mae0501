{
 "cells": [
  {
   "cell_type": "code",
   "execution_count": 2,
   "metadata": {},
   "outputs": [],
   "source": [
    "from fancyimpute import KNN    "
   ]
  },
  {
   "cell_type": "code",
   "execution_count": 3,
   "metadata": {},
   "outputs": [
    {
     "data": {
      "text/html": [
       "<div>\n",
       "<style scoped>\n",
       "    .dataframe tbody tr th:only-of-type {\n",
       "        vertical-align: middle;\n",
       "    }\n",
       "\n",
       "    .dataframe tbody tr th {\n",
       "        vertical-align: top;\n",
       "    }\n",
       "\n",
       "    .dataframe thead th {\n",
       "        text-align: right;\n",
       "    }\n",
       "</style>\n",
       "<table border=\"1\" class=\"dataframe\">\n",
       "  <thead>\n",
       "    <tr style=\"text-align: right;\">\n",
       "      <th></th>\n",
       "      <th>Pregnancies</th>\n",
       "      <th>Glucose</th>\n",
       "      <th>BloodPressure</th>\n",
       "      <th>SkinThickness</th>\n",
       "      <th>Insulin</th>\n",
       "      <th>BMI</th>\n",
       "      <th>DiabetesPedigreeFunction</th>\n",
       "      <th>Age</th>\n",
       "      <th>Outcome</th>\n",
       "    </tr>\n",
       "  </thead>\n",
       "  <tbody>\n",
       "    <tr>\n",
       "      <th>0</th>\n",
       "      <td>6</td>\n",
       "      <td>148</td>\n",
       "      <td>72</td>\n",
       "      <td>35</td>\n",
       "      <td>0</td>\n",
       "      <td>33.6</td>\n",
       "      <td>0.627</td>\n",
       "      <td>50</td>\n",
       "      <td>1</td>\n",
       "    </tr>\n",
       "    <tr>\n",
       "      <th>1</th>\n",
       "      <td>1</td>\n",
       "      <td>85</td>\n",
       "      <td>66</td>\n",
       "      <td>29</td>\n",
       "      <td>0</td>\n",
       "      <td>26.6</td>\n",
       "      <td>0.351</td>\n",
       "      <td>31</td>\n",
       "      <td>0</td>\n",
       "    </tr>\n",
       "    <tr>\n",
       "      <th>2</th>\n",
       "      <td>8</td>\n",
       "      <td>183</td>\n",
       "      <td>64</td>\n",
       "      <td>0</td>\n",
       "      <td>0</td>\n",
       "      <td>23.3</td>\n",
       "      <td>0.672</td>\n",
       "      <td>32</td>\n",
       "      <td>1</td>\n",
       "    </tr>\n",
       "    <tr>\n",
       "      <th>3</th>\n",
       "      <td>1</td>\n",
       "      <td>89</td>\n",
       "      <td>66</td>\n",
       "      <td>23</td>\n",
       "      <td>94</td>\n",
       "      <td>28.1</td>\n",
       "      <td>0.167</td>\n",
       "      <td>21</td>\n",
       "      <td>0</td>\n",
       "    </tr>\n",
       "    <tr>\n",
       "      <th>4</th>\n",
       "      <td>0</td>\n",
       "      <td>137</td>\n",
       "      <td>40</td>\n",
       "      <td>35</td>\n",
       "      <td>168</td>\n",
       "      <td>43.1</td>\n",
       "      <td>2.288</td>\n",
       "      <td>33</td>\n",
       "      <td>1</td>\n",
       "    </tr>\n",
       "  </tbody>\n",
       "</table>\n",
       "</div>"
      ],
      "text/plain": [
       "   Pregnancies  Glucose  BloodPressure  SkinThickness  Insulin   BMI  \\\n",
       "0            6      148             72             35        0  33.6   \n",
       "1            1       85             66             29        0  26.6   \n",
       "2            8      183             64              0        0  23.3   \n",
       "3            1       89             66             23       94  28.1   \n",
       "4            0      137             40             35      168  43.1   \n",
       "\n",
       "   DiabetesPedigreeFunction  Age  Outcome  \n",
       "0                     0.627   50        1  \n",
       "1                     0.351   31        0  \n",
       "2                     0.672   32        1  \n",
       "3                     0.167   21        0  \n",
       "4                     2.288   33        1  "
      ]
     },
     "execution_count": 3,
     "metadata": {},
     "output_type": "execute_result"
    }
   ],
   "source": [
    "import pandas as pd\n",
    "import warnings\n",
    "warnings.filterwarnings('ignore')\n",
    "\n",
    "data = pd.read_csv(\"diabetes.csv\")\n",
    "data.head()"
   ]
  },
  {
   "cell_type": "code",
   "execution_count": 4,
   "metadata": {},
   "outputs": [
    {
     "name": "stdout",
     "output_type": "stream",
     "text": [
      "<class 'pandas.core.frame.DataFrame'>\n",
      "RangeIndex: 768 entries, 0 to 767\n",
      "Data columns (total 9 columns):\n",
      " #   Column                    Non-Null Count  Dtype  \n",
      "---  ------                    --------------  -----  \n",
      " 0   Pregnancies               768 non-null    int64  \n",
      " 1   Glucose                   768 non-null    int64  \n",
      " 2   BloodPressure             768 non-null    int64  \n",
      " 3   SkinThickness             768 non-null    int64  \n",
      " 4   Insulin                   768 non-null    int64  \n",
      " 5   BMI                       768 non-null    float64\n",
      " 6   DiabetesPedigreeFunction  768 non-null    float64\n",
      " 7   Age                       768 non-null    int64  \n",
      " 8   Outcome                   768 non-null    int64  \n",
      "dtypes: float64(2), int64(7)\n",
      "memory usage: 54.1 KB\n"
     ]
    }
   ],
   "source": [
    "data.info()"
   ]
  },
  {
   "cell_type": "code",
   "execution_count": 5,
   "metadata": {},
   "outputs": [],
   "source": [
    "data.rename(columns = {'Outcome': 'diabetes'}, inplace = True)"
   ]
  },
  {
   "cell_type": "code",
   "execution_count": 6,
   "metadata": {},
   "outputs": [],
   "source": [
    "for i in range(1,7):\n",
    "    \n",
    "    data.iloc[:,i][data.iloc[:,i] == 0] = None"
   ]
  },
  {
   "cell_type": "code",
   "execution_count": 7,
   "metadata": {},
   "outputs": [
    {
     "data": {
      "text/plain": [
       "Pregnancies                   0\n",
       "Glucose                       5\n",
       "BloodPressure                35\n",
       "SkinThickness               227\n",
       "Insulin                     374\n",
       "BMI                          11\n",
       "DiabetesPedigreeFunction      0\n",
       "Age                           0\n",
       "diabetes                      0\n",
       "dtype: int64"
      ]
     },
     "execution_count": 7,
     "metadata": {},
     "output_type": "execute_result"
    }
   ],
   "source": [
    "data.isnull().sum()"
   ]
  },
  {
   "cell_type": "code",
   "execution_count": 8,
   "metadata": {},
   "outputs": [],
   "source": [
    "df_x = data.drop([\n",
    "'diabetes'\n",
    "], axis=1)"
   ]
  },
  {
   "cell_type": "code",
   "execution_count": 9,
   "metadata": {},
   "outputs": [
    {
     "name": "stdout",
     "output_type": "stream",
     "text": [
      "Numero de observaçoes do treino: 652\n",
      "Numero de observaçoes da teste fora do tempo: 116\n"
     ]
    }
   ],
   "source": [
    "from sklearn.model_selection import train_test_split\n",
    "\n",
    "X_all = df_x\n",
    "y_all = data['diabetes']\n",
    "\n",
    "X_train, X_test_out, y_train, y_test_out = train_test_split(X_all, y_all, test_size = 0.15 ,random_state = 23)\n",
    "\n",
    "print('Numero de observaçoes do treino:', len(X_train))\n",
    "print('Numero de observaçoes da teste fora do tempo:',len(X_test_out))"
   ]
  },
  {
   "cell_type": "code",
   "execution_count": 15,
   "metadata": {},
   "outputs": [
    {
     "name": "stdout",
     "output_type": "stream",
     "text": [
      "Numero de observaçoes do treino: 416\n",
      "Numero de observaçoes da teste: 105\n"
     ]
    }
   ],
   "source": [
    "X_all = X_train\n",
    "y_all = y_train\n",
    "\n",
    "X_train, X_test, y_train, y_test = train_test_split(X_all, y_all, test_size = 0.20 ,random_state = 25)\n",
    "\n",
    "print('Numero de observaçoes do treino:', len(X_train))\n",
    "print('Numero de observaçoes da teste:',len(X_test))"
   ]
  },
  {
   "cell_type": "code",
   "execution_count": 16,
   "metadata": {},
   "outputs": [
    {
     "name": "stdout",
     "output_type": "stream",
     "text": [
      "Imputing row 1/416 with 2 missing, elapsed time: 0.039\n",
      "Imputing row 101/416 with 0 missing, elapsed time: 0.047\n",
      "Imputing row 201/416 with 2 missing, elapsed time: 0.050\n",
      "Imputing row 301/416 with 0 missing, elapsed time: 0.052\n",
      "Imputing row 401/416 with 0 missing, elapsed time: 0.053\n",
      "Imputing row 1/105 with 0 missing, elapsed time: 0.004\n",
      "Imputing row 101/105 with 0 missing, elapsed time: 0.006\n",
      "Imputing row 1/116 with 2 missing, elapsed time: 0.004\n",
      "Imputing row 101/116 with 2 missing, elapsed time: 0.006\n"
     ]
    }
   ],
   "source": [
    "#Use 5 nearest rows which have a feature to fill in each row's missing features\n",
    "X_train = KNN(k=5).fit_transform(X_train)\n",
    "X_test = KNN(k=5).fit_transform(X_test)\n",
    "X_test_out = KNN(k=5).fit_transform(X_test_out)"
   ]
  },
  {
   "cell_type": "code",
   "execution_count": 17,
   "metadata": {},
   "outputs": [],
   "source": [
    "from sklearn.impute import SimpleImputer\n",
    "from sklearn.preprocessing import StandardScaler\n",
    "\n",
    "\n",
    "std = StandardScaler() \n",
    "\n",
    "X_train = std.fit_transform(X_train)\n",
    "X_test = std.fit_transform(X_test)\n",
    "X_test_out = std.fit_transform(X_test_out)"
   ]
  },
  {
   "cell_type": "markdown",
   "metadata": {},
   "source": [
    "## Modelagem"
   ]
  },
  {
   "cell_type": "code",
   "execution_count": 18,
   "metadata": {},
   "outputs": [],
   "source": [
    "import time\n",
    "from yellowbrick.classifier import DiscriminationThreshold\n",
    "from sklearn.preprocessing import PolynomialFeatures\n",
    "from sklearn.linear_model import LinearRegression\n",
    "from sklearn.linear_model import LogisticRegression\n",
    "from sklearn.naive_bayes import GaussianNB\n",
    "from sklearn.tree import DecisionTreeClassifier\n",
    "from sklearn.ensemble import GradientBoostingClassifier\n",
    "from sklearn.neighbors import KNeighborsClassifier\n",
    "from sklearn.ensemble import RandomForestClassifier\n",
    "from sklearn.neural_network import MLPClassifier\n",
    "from sklearn.svm import SVC\n",
    "from sklearn.model_selection import GridSearchCV\n",
    "from sklearn.metrics  import average_precision_score, make_scorer, roc_curve,f1_score, precision_score, recall_score, fbeta_score, auc, roc_auc_score, accuracy_score, confusion_matrix, classification_report,precision_recall_curve"
   ]
  },
  {
   "cell_type": "code",
   "execution_count": 19,
   "metadata": {},
   "outputs": [],
   "source": [
    "from scipy.stats import ks_2samp\n",
    "\n",
    "def fit_and_print(model, X_test):\n",
    "    y_pred = model.predict(X_test)\n",
    "    print(\"Confusion Matrix: \\n\", confusion_matrix(y_test, y_pred))  \n",
    "    print(\"Classification Report: \\n\", classification_report(y_test, y_pred))  "
   ]
  },
  {
   "cell_type": "markdown",
   "metadata": {},
   "source": [
    "### Random Forest"
   ]
  },
  {
   "cell_type": "code",
   "execution_count": 20,
   "metadata": {},
   "outputs": [
    {
     "name": "stdout",
     "output_type": "stream",
     "text": [
      "63.26586389541626\n",
      "0.759724612736661\n",
      "RandomForestClassifier(bootstrap=True, ccp_alpha=0.0, class_weight=None,\n",
      "                       criterion='gini', max_depth=30, max_features=8,\n",
      "                       max_leaf_nodes=None, max_samples=None,\n",
      "                       min_impurity_decrease=0.0, min_impurity_split=None,\n",
      "                       min_samples_leaf=1, min_samples_split=0.01,\n",
      "                       min_weight_fraction_leaf=0.0, n_estimators=576,\n",
      "                       n_jobs=None, oob_score=False, random_state=665,\n",
      "                       verbose=0, warm_start=False)\n",
      "{'max_depth': 30, 'max_features': 8, 'min_samples_split': 0.01, 'n_estimators': 576}\n"
     ]
    }
   ],
   "source": [
    "# from sklearn.ensemble import RandomForestClassifier\n",
    "clf = RandomForestClassifier(random_state = 665)\n",
    "\n",
    "params = {'n_estimators' : [300,576],    \n",
    "          'max_depth': [30, 50],\n",
    "          'max_features': [5, 8],\n",
    "          'min_samples_split' : [0.01,0.05]\n",
    "         }\n",
    "\n",
    "gsRFC = GridSearchCV(estimator = clf,\n",
    "                          param_grid = params,\n",
    "#                           scoring = \"recall\",\n",
    "                          cv = 5 \n",
    ")\n",
    "\n",
    "inicio = time.time()\n",
    "gsRFC.fit(X_train, y_train)\n",
    "fim = time.time()\n",
    "\n",
    "print(fim - inicio)\n",
    "print(gsRFC.best_score_)\n",
    "RFC_best = gsRFC.best_estimator_\n",
    "print(gsRFC.best_estimator_)\n",
    "print(gsRFC.best_params_)"
   ]
  },
  {
   "cell_type": "code",
   "execution_count": 21,
   "metadata": {},
   "outputs": [
    {
     "name": "stdout",
     "output_type": "stream",
     "text": [
      "Confusion Matrix: \n",
      " [[56 15]\n",
      " [13 21]]\n",
      "Classification Report: \n",
      "               precision    recall  f1-score   support\n",
      "\n",
      "           0       0.81      0.79      0.80        71\n",
      "           1       0.58      0.62      0.60        34\n",
      "\n",
      "    accuracy                           0.73       105\n",
      "   macro avg       0.70      0.70      0.70       105\n",
      "weighted avg       0.74      0.73      0.74       105\n",
      "\n"
     ]
    }
   ],
   "source": [
    "fit_and_print(RFC_best, X_test)"
   ]
  },
  {
   "cell_type": "code",
   "execution_count": 22,
   "metadata": {},
   "outputs": [
    {
     "data": {
      "text/plain": [
       "0.7031897265948633"
      ]
     },
     "execution_count": 22,
     "metadata": {},
     "output_type": "execute_result"
    }
   ],
   "source": [
    "roc_auc_score(y_test, RFC_best.predict(X_test))"
   ]
  },
  {
   "cell_type": "code",
   "execution_count": 24,
   "metadata": {},
   "outputs": [
    {
     "data": {
      "text/plain": [
       "Text(0.5,1,'Random Forest feature importance')"
      ]
     },
     "execution_count": 24,
     "metadata": {},
     "output_type": "execute_result"
    },
    {
     "data": {
      "image/png": "[encoded data removed]",
      "text/plain": [
       "<matplotlib.figure.Figure at 0x1bad7208748>"
      ]
     },
     "metadata": {},
     "output_type": "display_data"
    }
   ],
   "source": [
    "import seaborn as sns\n",
    "import numpy as np\n",
    "names_classifiers = [(\"Random Forest\",RFC_best)]\n",
    "classifier = names_classifiers[0][1]\n",
    "name = names_classifiers[0][0]\n",
    "indices = np.argsort(classifier.feature_importances_)[::-1][:40]\n",
    "g = sns.barplot(y=X_all.columns[indices][:40],x = classifier.feature_importances_[indices][:40] , orient='h')\n",
    "g.set_xlabel(\"Relative importance\",fontsize=12)\n",
    "g.set_ylabel(\"Features\",fontsize=12)\n",
    "g.tick_params(labelsize=9)\n",
    "g.set_title(name + \" feature importance\")"
   ]
  },
  {
   "cell_type": "markdown",
   "metadata": {},
   "source": [
    "### Logistic Regression"
   ]
  },
  {
   "cell_type": "code",
   "execution_count": 25,
   "metadata": {},
   "outputs": [
    {
     "data": {
      "text/plain": [
       "0.7645438898450947"
      ]
     },
     "execution_count": 25,
     "metadata": {},
     "output_type": "execute_result"
    }
   ],
   "source": [
    "logreg = GridSearchCV(estimator = LogisticRegression(),\n",
    "                          param_grid = {'C': [1, 10,100], 'class_weight': [None, 'balanced'], 'max_iter':[10000], 'penalty' : ['l1', 'l2']},\n",
    "                          cv = 5)\n",
    "logreg.fit(X_train ,y_train)\n",
    "\n",
    "logreg_best = logreg.best_estimator_\n",
    "\n",
    "# Best score\n",
    "logreg.best_score_"
   ]
  },
  {
   "cell_type": "code",
   "execution_count": 26,
   "metadata": {},
   "outputs": [
    {
     "name": "stdout",
     "output_type": "stream",
     "text": [
      "Confusion Matrix: \n",
      " [[64  7]\n",
      " [18 16]]\n",
      "Classification Report: \n",
      "               precision    recall  f1-score   support\n",
      "\n",
      "           0       0.78      0.90      0.84        71\n",
      "           1       0.70      0.47      0.56        34\n",
      "\n",
      "    accuracy                           0.76       105\n",
      "   macro avg       0.74      0.69      0.70       105\n",
      "weighted avg       0.75      0.76      0.75       105\n",
      "\n"
     ]
    }
   ],
   "source": [
    "fit_and_print(logreg_best, X_test)"
   ]
  },
  {
   "cell_type": "code",
   "execution_count": 27,
   "metadata": {},
   "outputs": [
    {
     "data": {
      "image/png": "[encoded data removed]",
      "text/plain": [
       "<matplotlib.figure.Figure at 0x1bad9370390>"
      ]
     },
     "metadata": {},
     "output_type": "display_data"
    },
    {
     "data": {
      "text/plain": [
       "<matplotlib.axes._subplots.AxesSubplot at 0x1bad93a46d8>"
      ]
     },
     "execution_count": 27,
     "metadata": {},
     "output_type": "execute_result"
    }
   ],
   "source": [
    "visualizer_LR_best = DiscriminationThreshold(logreg_best)\n",
    "visualizer_LR_best.fit(X_train,y_train)\n",
    "visualizer_LR_best.poof()"
   ]
  },
  {
   "cell_type": "markdown",
   "metadata": {},
   "source": [
    "### SVM"
   ]
  },
  {
   "cell_type": "code",
   "execution_count": 28,
   "metadata": {},
   "outputs": [
    {
     "name": "stdout",
     "output_type": "stream",
     "text": [
      "Fitting 5 folds for each of 24 candidates, totalling 120 fits\n"
     ]
    },
    {
     "name": "stderr",
     "output_type": "stream",
     "text": [
      "[Parallel(n_jobs=1)]: Using backend SequentialBackend with 1 concurrent workers.\n",
      "[Parallel(n_jobs=1)]: Done 120 out of 120 | elapsed:    2.4s finished\n"
     ]
    },
    {
     "data": {
      "text/plain": [
       "0.7621342512908778"
      ]
     },
     "execution_count": 28,
     "metadata": {},
     "output_type": "execute_result"
    }
   ],
   "source": [
    "### SVC classifier\n",
    "SVMC = SVC(probability=True)\n",
    "svc_param_grid = {'kernel': ['rbf'], \n",
    "                  'gamma': [ 0.001, 0.01, 0.1, 1],\n",
    "                  'C': [1, 10, 50, 100,200,300]}\n",
    "\n",
    "gsSVMC = GridSearchCV(SVMC,param_grid = svc_param_grid, cv=5, n_jobs= 1, verbose = 1)\n",
    "\n",
    "gsSVMC.fit(X_train, y_train)\n",
    "\n",
    "SVMC_best = gsSVMC.best_estimator_\n",
    "\n",
    "# Best score\n",
    "gsSVMC.best_score_"
   ]
  },
  {
   "cell_type": "code",
   "execution_count": 29,
   "metadata": {},
   "outputs": [
    {
     "name": "stdout",
     "output_type": "stream",
     "text": [
      "Confusion Matrix: \n",
      " [[66  5]\n",
      " [17 17]]\n",
      "Classification Report: \n",
      "               precision    recall  f1-score   support\n",
      "\n",
      "           0       0.80      0.93      0.86        71\n",
      "           1       0.77      0.50      0.61        34\n",
      "\n",
      "    accuracy                           0.79       105\n",
      "   macro avg       0.78      0.71      0.73       105\n",
      "weighted avg       0.79      0.79      0.78       105\n",
      "\n"
     ]
    }
   ],
   "source": [
    "fit_and_print(SVMC_best, X_test)"
   ]
  },
  {
   "cell_type": "markdown",
   "metadata": {},
   "source": [
    "### Ensemble"
   ]
  },
  {
   "cell_type": "code",
   "execution_count": 30,
   "metadata": {},
   "outputs": [
    {
     "data": {
      "image/png": "[encoded data removed]",
      "text/plain": [
       "<matplotlib.figure.Figure at 0x1bad94aa9b0>"
      ]
     },
     "metadata": {},
     "output_type": "display_data"
    }
   ],
   "source": [
    "test_Survived_RF = pd.Series(RFC_best.predict(X_test), name=\"Random Forest\")\n",
    "test_Survived_LogReg = pd.Series(logreg_best.predict(X_test), name= \"Logistic Regression\")\n",
    "test_Survived_SVM = pd.Series(SVMC_best.predict(X_test), name=\"SVM\")\n",
    "\n",
    "# Concatenate all classifier results\n",
    "ensemble_results = pd.concat([test_Survived_RF,test_Survived_LogReg, test_Survived_SVM],axis=1)\n",
    "\n",
    "g= sns.heatmap(ensemble_results.corr(),annot=True)"
   ]
  },
  {
   "cell_type": "code",
   "execution_count": 31,
   "metadata": {},
   "outputs": [],
   "source": [
    "from sklearn.ensemble import VotingClassifier\n",
    "\n",
    "votingC = VotingClassifier(estimators=[('rfc', RFC_best), ('logreg', logreg_best), ('svm', SVMC_best)], voting='soft', n_jobs=1)\n",
    "\n",
    "votingC = votingC.fit(X_train, y_train)"
   ]
  },
  {
   "cell_type": "code",
   "execution_count": 32,
   "metadata": {},
   "outputs": [
    {
     "data": {
      "text/plain": [
       "<bound method ClassifierMixin.score of VotingClassifier(estimators=[('rfc',\n",
       "                              RandomForestClassifier(bootstrap=True,\n",
       "                                                     ccp_alpha=0.0,\n",
       "                                                     class_weight=None,\n",
       "                                                     criterion='gini',\n",
       "                                                     max_depth=30,\n",
       "                                                     max_features=8,\n",
       "                                                     max_leaf_nodes=None,\n",
       "                                                     max_samples=None,\n",
       "                                                     min_impurity_decrease=0.0,\n",
       "                                                     min_impurity_split=None,\n",
       "                                                     min_samples_leaf=1,\n",
       "                                                     min_samples_split=0.01,\n",
       "                                                     min_weight_fraction_leaf=0.0,\n",
       "                                                     n_estimators=576,\n",
       "                                                     n_jobs=None,\n",
       "                                                     oob_score=Fa...\n",
       "                                                 random_state=None,\n",
       "                                                 solver='lbfgs', tol=0.0001,\n",
       "                                                 verbose=0, warm_start=False)),\n",
       "                             ('svm',\n",
       "                              SVC(C=50, break_ties=False, cache_size=200,\n",
       "                                  class_weight=None, coef0=0.0,\n",
       "                                  decision_function_shape='ovr', degree=3,\n",
       "                                  gamma=0.001, kernel='rbf', max_iter=-1,\n",
       "                                  probability=True, random_state=None,\n",
       "                                  shrinking=True, tol=0.001, verbose=False))],\n",
       "                 flatten_transform=True, n_jobs=1, voting='soft', weights=None)>"
      ]
     },
     "execution_count": 32,
     "metadata": {},
     "output_type": "execute_result"
    }
   ],
   "source": [
    "votingC.score"
   ]
  },
  {
   "cell_type": "code",
   "execution_count": 33,
   "metadata": {},
   "outputs": [
    {
     "name": "stdout",
     "output_type": "stream",
     "text": [
      "Confusion Matrix: \n",
      " [[62  9]\n",
      " [17 17]]\n",
      "Classification Report: \n",
      "               precision    recall  f1-score   support\n",
      "\n",
      "           0       0.78      0.87      0.83        71\n",
      "           1       0.65      0.50      0.57        34\n",
      "\n",
      "    accuracy                           0.75       105\n",
      "   macro avg       0.72      0.69      0.70       105\n",
      "weighted avg       0.74      0.75      0.74       105\n",
      "\n"
     ]
    }
   ],
   "source": [
    "fit_and_print(votingC, X_test)"
   ]
  },
  {
   "cell_type": "markdown",
   "metadata": {},
   "source": [
    "### Teste Out-Of-Time Amostra fora do Tempo"
   ]
  },
  {
   "cell_type": "code",
   "execution_count": 38,
   "metadata": {},
   "outputs": [
    {
     "name": "stdout",
     "output_type": "stream",
     "text": [
      "Confusion Matrix: \n",
      " [[68  5]\n",
      " [15 28]]\n",
      "Classification Report: \n",
      "               precision    recall  f1-score   support\n",
      "\n",
      "           0       0.82      0.93      0.87        73\n",
      "           1       0.85      0.65      0.74        43\n",
      "\n",
      "    accuracy                           0.83       116\n",
      "   macro avg       0.83      0.79      0.80       116\n",
      "weighted avg       0.83      0.83      0.82       116\n",
      "\n"
     ]
    }
   ],
   "source": [
    "def fit_and_print_2(model, X_test):\n",
    "    y_pred = model.predict(X_test)\n",
    "    print(\"Confusion Matrix: \\n\", confusion_matrix(y_test_out, y_pred))  \n",
    "    print(\"Classification Report: \\n\", classification_report(y_test_out, y_pred))  \n",
    "    \n",
    "    \n",
    "fit_and_print_2(votingC, X_test_out)"
   ]
  }
 ],
 "metadata": {
  "kernelspec": {
   "display_name": "Python 3",
   "language": "python",
   "name": "python3"
  },
  "language_info": {
   "codemirror_mode": {
    "name": "ipython",
    "version": 3
   },
   "file_extension": ".py",
   "mimetype": "text/x-python",
   "name": "python",
   "nbconvert_exporter": "python",
   "pygments_lexer": "ipython3",
   "version": "3.6.7"
  }
 },
 "nbformat": 4,
 "nbformat_minor": 2
}
